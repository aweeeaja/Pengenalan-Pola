{
  "nbformat": 4,
  "nbformat_minor": 0,
  "metadata": {
    "colab": {
      "provenance": [],
      "mount_file_id": "1EWNTc2672Ar4I_-mofxFsud7kqgQu5ZO",
      "authorship_tag": "ABX9TyMl1fEWkLutXus3VcUUJbHU",
      "include_colab_link": true
    },
    "kernelspec": {
      "name": "python3",
      "display_name": "Python 3"
    },
    "language_info": {
      "name": "python"
    }
  },
  "cells": [
    {
      "cell_type": "markdown",
      "metadata": {
        "id": "view-in-github",
        "colab_type": "text"
      },
      "source": [
        "<a href=\"https://colab.research.google.com/github/aweeeaja/Pengenalan-Pola/blob/main/Pengenalan_Digit_Tulisan_Tangan.ipynb\" target=\"_parent\"><img src=\"https://colab.research.google.com/assets/colab-badge.svg\" alt=\"Open In Colab\"/></a>"
      ]
    },
    {
      "cell_type": "code",
      "execution_count": null,
      "metadata": {
        "id": "p4syjBUF-L6s"
      },
      "outputs": [],
      "source": [
        "import os\n",
        "import cv2\n",
        "import numpy as np\n",
        "from sklearn.preprocessing import StandardScaler\n",
        "from sklearn.model_selection import train_test_split\n",
        "from sklearn.svm import SVC\n",
        "from sklearn.neighbors import KNeighborsClassifier\n",
        "from sklearn.ensemble import RandomForestClassifier, GradientBoostingClassifier\n",
        "from sklearn.metrics import accuracy_score\n",
        "from skimage.feature import hog\n",
        "\n",
        "def load_images_from_folder(folder, img_size=(64, 64)):\n",
        "    images = []\n",
        "    labels = []\n",
        "    for subdir, _, files in os.walk(folder):\n",
        "        for file in files:\n",
        "            img_path = os.path.join(subdir, file)\n",
        "            img = cv2.imread(img_path, cv2.IMREAD_GRAYSCALE)\n",
        "            if img is not None:\n",
        "                img = cv2.resize(img, img_size)\n",
        "                images.append(img)\n",
        "                label = int(file.split('_')[0])  # Assuming label is the first part of the filename before '_'\n",
        "                labels.append(label)\n",
        "    return np.array(images), np.array(labels)\n",
        "\n",
        "def extract_features_sift(images):\n",
        "    sift = cv2.SIFT_create()\n",
        "    descriptors_list = []\n",
        "    for img in images:\n",
        "        keypoints, descriptors = sift.detectAndCompute(img, None)\n",
        "        if descriptors is not None:\n",
        "            descriptors_list.append(descriptors.flatten())\n",
        "        else:\n",
        "            descriptors_list.append(np.zeros(sift.descriptorSize()))\n",
        "    return pad_descriptors(descriptors_list, sift.descriptorSize())\n",
        "\n",
        "def extract_features_orb(images):\n",
        "    orb = cv2.ORB_create()\n",
        "    descriptors_list = []\n",
        "    for img in images:\n",
        "        keypoints, descriptors = orb.detectAndCompute(img, None)\n",
        "        if descriptors is not None:\n",
        "            descriptors_list.append(descriptors.flatten())\n",
        "        else:\n",
        "            descriptors_list.append(np.zeros(32))\n",
        "    return pad_descriptors(descriptors_list, 32)\n",
        "\n",
        "def extract_features_hog(images):\n",
        "    hog_features = []\n",
        "    for img in images:\n",
        "        features, _ = hog(img, pixels_per_cell=(8, 8), cells_per_block=(2, 2), visualize=True)\n",
        "        hog_features.append(features)\n",
        "    return np.array(hog_features)\n",
        "\n",
        "def pad_descriptors(descriptors, size):\n",
        "    max_length = max([desc.shape[0] for desc in descriptors])\n",
        "    padded_descriptors = []\n",
        "    for desc in descriptors:\n",
        "        if desc.shape[0] < max_length:\n",
        "            padding = np.zeros(max_length - desc.shape[0])\n",
        "            desc = np.hstack((desc, padding))\n",
        "        padded_descriptors.append(desc)\n",
        "    return np.array(padded_descriptors)\n",
        "\n",
        "def preprocess_and_extract_features(feature_extractor, images):\n",
        "    images_normalized = [cv2.normalize(img, None, 0, 255, cv2.NORM_MINMAX).astype('uint8') for img in images]\n",
        "    descriptors_list = feature_extractor(images_normalized)\n",
        "    scaler = StandardScaler().fit(descriptors_list)\n",
        "    descriptors_list = scaler.transform(descriptors_list).astype(np.float32)\n",
        "    return descriptors_list\n",
        "\n",
        "# Load images and labels\n",
        "data_folder = '/content/drive/MyDrive/Pepo/DataSet_05'  # Change to the path to your dataset\n",
        "X, y = load_images_from_folder(data_folder)\n"
      ]
    },
    {
      "cell_type": "code",
      "source": [
        "# Extract HOG features\n",
        "X_hog = preprocess_and_extract_features(extract_features_hog, X)\n",
        "\n",
        "# Split data\n",
        "X_train_hog, X_test_hog, y_train_hog, y_test_hog = train_test_split(X_hog, y, test_size=0.3, random_state=42)\n",
        "\n",
        "# Train and evaluate models for HOG\n",
        "models = {\n",
        "    \"SVM\": SVC(gamma='auto'),\n",
        "    \"KNN\": KNeighborsClassifier(n_neighbors=3),\n",
        "    \"Random Forest\": RandomForestClassifier(n_estimators=100),\n",
        "    \"Gradient Boosting\": GradientBoostingClassifier(n_estimators=100)\n",
        "}\n",
        "\n",
        "results_hog = {}\n",
        "for name, model in models.items():\n",
        "    model.fit(X_train_hog, y_train_hog)\n",
        "    y_pred = model.predict(X_test_hog)\n",
        "    accuracy = accuracy_score(y_test_hog, y_pred)\n",
        "    results_hog[name] = accuracy\n",
        "\n",
        "print(\"HOG Results:\")\n",
        "for model, accuracy in results_hog.items():\n",
        "    print(f\"HOG + {model} Accuracy:\", accuracy)\n"
      ],
      "metadata": {
        "colab": {
          "base_uri": "https://localhost:8080/"
        },
        "id": "8dPqCjGl-pdy",
        "outputId": "bc997f24-4442-4a2d-cf58-b3ece2267797"
      },
      "execution_count": null,
      "outputs": [
        {
          "output_type": "stream",
          "name": "stdout",
          "text": [
            "HOG Results:\n",
            "HOG + SVM Accuracy: 0.9642541924095323\n",
            "HOG + KNN Accuracy: 0.9232127096204766\n",
            "HOG + Random Forest Accuracy: 0.9655781112091791\n",
            "HOG + Gradient Boosting Accuracy: 0.9523389232127096\n"
          ]
        }
      ]
    },
    {
      "cell_type": "code",
      "source": [
        "# Extract HOG features\n",
        "X_hog = preprocess_and_extract_features(extract_features_hog, X)\n",
        "\n",
        "# Split data\n",
        "X_train_hog, X_test_hog, y_train_hog, y_test_hog = train_test_split(X_hog, y, test_size=0.4, random_state=42)\n",
        "\n",
        "# Train and evaluate models for HOG\n",
        "models = {\n",
        "    \"SVM\": SVC(gamma='auto'),\n",
        "    # \"KNN\": KNeighborsClassifier(n_neighbors=3),\n",
        "    # \"Random Forest\": RandomForestClassifier(n_estimators=100),\n",
        "    # \"Gradient Boosting\": GradientBoostingClassifier(n_estimators=100)\n",
        "}\n",
        "\n",
        "results_hog = {}\n",
        "for name, model in models.items():\n",
        "    model.fit(X_train_hog, y_train_hog)\n",
        "    y_pred = model.predict(X_test_hog)\n",
        "    accuracy = accuracy_score(y_test_hog, y_pred)\n",
        "    results_hog[name] = accuracy\n",
        "\n",
        "print(\"HOG Results:\")\n",
        "for model, accuracy in results_hog.items():\n",
        "    print(f\"HOG + {model} Accuracy:\", accuracy)\n"
      ],
      "metadata": {
        "colab": {
          "base_uri": "https://localhost:8080/"
        },
        "outputId": "fa8faf7e-d024-456b-f219-4f9a08303ae2",
        "id": "Jd1b69NGTjHP"
      },
      "execution_count": null,
      "outputs": [
        {
          "output_type": "stream",
          "name": "stdout",
          "text": [
            "HOG Results:\n",
            "HOG + SVM Accuracy: 0.9626075446724024\n"
          ]
        }
      ]
    },
    {
      "cell_type": "code",
      "source": [
        "# Extract HOG features\n",
        "X_hog = preprocess_and_extract_features(extract_features_hog, X)\n",
        "\n",
        "# Split data\n",
        "X_train_hog, X_test_hog, y_train_hog, y_test_hog = train_test_split(X_hog, y, test_size=0.2, random_state=42)\n",
        "\n",
        "# Train and evaluate models for HOG\n",
        "models = {\n",
        "    \"SVM\": SVC(gamma='auto'),\n",
        "    # \"KNN\": KNeighborsClassifier(n_neighbors=3),\n",
        "    # \"Random Forest\": RandomForestClassifier(n_estimators=100),\n",
        "    # \"Gradient Boosting\": GradientBoostingClassifier(n_estimators=100)\n",
        "}\n",
        "\n",
        "results_hog = {}\n",
        "for name, model in models.items():\n",
        "    model.fit(X_train_hog, y_train_hog)\n",
        "    y_pred = model.predict(X_test_hog)\n",
        "    accuracy = accuracy_score(y_test_hog, y_pred)\n",
        "    results_hog[name] = accuracy\n",
        "\n",
        "print(\"HOG Results:\")\n",
        "for model, accuracy in results_hog.items():\n",
        "    print(f\"HOG + {model} Accuracy:\", accuracy)\n"
      ],
      "metadata": {
        "colab": {
          "base_uri": "https://localhost:8080/"
        },
        "outputId": "efc6f081-dda1-4284-f850-1d5c35ccecc9",
        "id": "7BlzUjk0UJBs"
      },
      "execution_count": null,
      "outputs": [
        {
          "output_type": "stream",
          "name": "stdout",
          "text": [
            "HOG Results:\n",
            "HOG + SVM Accuracy: 0.9629384513567174\n"
          ]
        }
      ]
    },
    {
      "cell_type": "code",
      "source": [
        "# Extract HOG features\n",
        "X_hog = preprocess_and_extract_features(extract_features_hog, X)\n",
        "\n",
        "# Split data\n",
        "X_train_hog, X_test_hog, y_train_hog, y_test_hog = train_test_split(X_hog, y, test_size=0.4, random_state=42)\n",
        "\n",
        "# Train and evaluate models for HOG\n",
        "models = {\n",
        "    # \"SVM\": SVC(gamma='auto'),\n",
        "    # \"KNN\": KNeighborsClassifier(n_neighbors=3),\n",
        "    \"Random Forest\": RandomForestClassifier(n_estimators=100),\n",
        "    # \"Gradient Boosting\": GradientBoostingClassifier(n_estimators=100)\n",
        "}\n",
        "\n",
        "results_hog = {}\n",
        "for name, model in models.items():\n",
        "    model.fit(X_train_hog, y_train_hog)\n",
        "    y_pred = model.predict(X_test_hog)\n",
        "    accuracy = accuracy_score(y_test_hog, y_pred)\n",
        "    results_hog[name] = accuracy\n",
        "\n",
        "print(\"HOG Results:\")\n",
        "for model, accuracy in results_hog.items():\n",
        "    print(f\"HOG + {model} Accuracy:\", accuracy)\n"
      ],
      "metadata": {
        "colab": {
          "base_uri": "https://localhost:8080/"
        },
        "outputId": "8718f3db-8908-48e6-fa76-75f35aca26f9",
        "id": "YCi74uCcUvpf"
      },
      "execution_count": null,
      "outputs": [
        {
          "output_type": "stream",
          "name": "stdout",
          "text": [
            "HOG Results:\n",
            "HOG + Random Forest Accuracy: 0.9665784248841827\n"
          ]
        }
      ]
    },
    {
      "cell_type": "code",
      "source": [
        "# Extract HOG features\n",
        "X_hog = preprocess_and_extract_features(extract_features_hog, X)\n",
        "\n",
        "# Split data\n",
        "X_train_hog, X_test_hog, y_train_hog, y_test_hog = train_test_split(X_hog, y, test_size=0.2, random_state=42)\n",
        "\n",
        "# Train and evaluate models for HOG\n",
        "models = {\n",
        "    # \"SVM\": SVC(gamma='auto'),\n",
        "    # \"KNN\": KNeighborsClassifier(n_neighbors=3),\n",
        "    \"Random Forest\": RandomForestClassifier(n_estimators=100),\n",
        "    # \"Gradient Boosting\": GradientBoostingClassifier(n_estimators=100)\n",
        "}\n",
        "\n",
        "results_hog = {}\n",
        "for name, model in models.items():\n",
        "    model.fit(X_train_hog, y_train_hog)\n",
        "    y_pred = model.predict(X_test_hog)\n",
        "    accuracy = accuracy_score(y_test_hog, y_pred)\n",
        "    results_hog[name] = accuracy\n",
        "\n",
        "print(\"HOG Results:\")\n",
        "for model, accuracy in results_hog.items():\n",
        "    print(f\"HOG + {model} Accuracy:\", accuracy)\n"
      ],
      "metadata": {
        "colab": {
          "base_uri": "https://localhost:8080/"
        },
        "outputId": "98f717fb-8f17-4ff2-e4e4-d61d2ee776bf",
        "id": "FXhRrsyBVOiq"
      },
      "execution_count": null,
      "outputs": [
        {
          "output_type": "stream",
          "name": "stdout",
          "text": [
            "HOG Results:\n",
            "HOG + Random Forest Accuracy: 0.9636002647253474\n"
          ]
        }
      ]
    },
    {
      "cell_type": "code",
      "source": [
        "# Flatten images for no feature extraction scenario\n",
        "X_flattened = [img.flatten() for img in X]\n",
        "X_flattened = np.array(X_flattened).astype(np.float32)\n",
        "scaler_flattened = StandardScaler().fit(X_flattened)\n",
        "X_flattened = scaler_flattened.transform(X_flattened).astype(np.float32)\n",
        "\n",
        "# Split data\n",
        "X_train_flat, X_test_flat, y_train_flat, y_test_flat = train_test_split(X_flattened, y, test_size=0.3, random_state=42)\n",
        "\n",
        "# Train and evaluate models for flattened images\n",
        "models = {\n",
        "    \"SVM\": SVC(gamma='auto'),\n",
        "    # \"KNN\": KNeighborsClassifier(n_neighbors=3),\n",
        "    # \"Random Forest\": RandomForestClassifier(n_estimators=100),\n",
        "    # \"Gradient Boosting\": GradientBoostingClassifier(n_estimators=100)\n",
        "}\n",
        "\n",
        "results_flat = {}\n",
        "for name, model in models.items():\n",
        "    model.fit(X_train_flat, y_train_flat)\n",
        "    y_pred = model.predict(X_test_flat)\n",
        "    accuracy = accuracy_score(y_test_flat, y_pred)\n",
        "    results_flat[name] = accuracy\n",
        "\n",
        "print(\"No Feature Extraction Results:\")\n",
        "for model, accuracy in results_flat.items():\n",
        "    print(f\"No Feature Extraction + {model} Accuracy:\", accuracy)\n"
      ],
      "metadata": {
        "id": "hEPRFoJjBBgr",
        "colab": {
          "base_uri": "https://localhost:8080/"
        },
        "outputId": "3cee1bfb-ef79-41e5-cd9f-00cded2fca07"
      },
      "execution_count": null,
      "outputs": [
        {
          "output_type": "stream",
          "name": "stdout",
          "text": [
            "No Feature Extraction Results:\n",
            "No Feature Extraction + SVM Accuracy: 0.8790820829655781\n"
          ]
        }
      ]
    },
    {
      "cell_type": "code",
      "source": [
        "# Flatten images for no feature extraction scenario\n",
        "X_flattened = [img.flatten() for img in X]\n",
        "X_flattened = np.array(X_flattened).astype(np.float32)\n",
        "scaler_flattened = StandardScaler().fit(X_flattened)\n",
        "X_flattened = scaler_flattened.transform(X_flattened).astype(np.float32)\n",
        "\n",
        "# Split data\n",
        "X_train_flat, X_test_flat, y_train_flat, y_test_flat = train_test_split(X_flattened, y, test_size=0.4, random_state=42)\n",
        "\n",
        "# Train and evaluate models for flattened images\n",
        "models = {\n",
        "    \"SVM\": SVC(gamma='auto'),\n",
        "    # \"KNN\": KNeighborsClassifier(n_neighbors=3),\n",
        "    # \"Random Forest\": RandomForestClassifier(n_estimators=100),\n",
        "    # \"Gradient Boosting\": GradientBoostingClassifier(n_estimators=100)\n",
        "}\n",
        "\n",
        "results_flat = {}\n",
        "for name, model in models.items():\n",
        "    model.fit(X_train_flat, y_train_flat)\n",
        "    y_pred = model.predict(X_test_flat)\n",
        "    accuracy = accuracy_score(y_test_flat, y_pred)\n",
        "    results_flat[name] = accuracy\n",
        "\n",
        "print(\"No Feature Extraction Results:\")\n",
        "for model, accuracy in results_flat.items():\n",
        "    print(f\"No Feature Extraction + {model} Accuracy:\", accuracy)\n"
      ],
      "metadata": {
        "colab": {
          "base_uri": "https://localhost:8080/"
        },
        "outputId": "1b5cf11b-e0c8-41b8-c478-aeab45e1d767",
        "id": "vdm0jskGZrK4"
      },
      "execution_count": null,
      "outputs": [
        {
          "output_type": "stream",
          "name": "stdout",
          "text": [
            "No Feature Extraction Results:\n",
            "No Feature Extraction + SVM Accuracy: 0.8749172733289212\n"
          ]
        }
      ]
    },
    {
      "cell_type": "code",
      "source": [
        "# Flatten images for no feature extraction scenario\n",
        "X_flattened = [img.flatten() for img in X]\n",
        "X_flattened = np.array(X_flattened).astype(np.float32)\n",
        "scaler_flattened = StandardScaler().fit(X_flattened)\n",
        "X_flattened = scaler_flattened.transform(X_flattened).astype(np.float32)\n",
        "\n",
        "# Split data\n",
        "X_train_flat, X_test_flat, y_train_flat, y_test_flat = train_test_split(X_flattened, y, test_size=0.2, random_state=42)\n",
        "\n",
        "# Train and evaluate models for flattened images\n",
        "models = {\n",
        "    \"SVM\": SVC(gamma='auto'),\n",
        "    # \"KNN\": KNeighborsClassifier(n_neighbors=3),\n",
        "    # \"Random Forest\": RandomForestClassifier(n_estimators=100),\n",
        "    # \"Gradient Boosting\": GradientBoostingClassifier(n_estimators=100)\n",
        "}\n",
        "\n",
        "results_flat = {}\n",
        "for name, model in models.items():\n",
        "    model.fit(X_train_flat, y_train_flat)\n",
        "    y_pred = model.predict(X_test_flat)\n",
        "    accuracy = accuracy_score(y_test_flat, y_pred)\n",
        "    results_flat[name] = accuracy\n",
        "\n",
        "print(\"No Feature Extraction Results:\")\n",
        "for model, accuracy in results_flat.items():\n",
        "    print(f\"No Feature Extraction + {model} Accuracy:\", accuracy)\n"
      ],
      "metadata": {
        "colab": {
          "base_uri": "https://localhost:8080/"
        },
        "outputId": "b1d1a5bd-7eef-42d1-fcd9-a0cb232739df",
        "id": "0zYPf7LqZuWj"
      },
      "execution_count": null,
      "outputs": [
        {
          "output_type": "stream",
          "name": "stdout",
          "text": [
            "No Feature Extraction Results:\n",
            "No Feature Extraction + SVM Accuracy: 0.8894771674387822\n"
          ]
        }
      ]
    },
    {
      "cell_type": "code",
      "source": [
        "# Flatten images for no feature extraction scenario\n",
        "X_flattened = [img.flatten() for img in X]\n",
        "X_flattened = np.array(X_flattened).astype(np.float32)\n",
        "scaler_flattened = StandardScaler().fit(X_flattened)\n",
        "X_flattened = scaler_flattened.transform(X_flattened).astype(np.float32)\n",
        "\n",
        "# Split data\n",
        "X_train_flat, X_test_flat, y_train_flat, y_test_flat = train_test_split(X_flattened, y, test_size=0.4, random_state=42)\n",
        "\n",
        "# Train and evaluate models for flattened images\n",
        "models = {\n",
        "    # \"SVM\": SVC(gamma='auto'),\n",
        "    # \"KNN\": KNeighborsClassifier(n_neighbors=3),\n",
        "    \"Random Forest\": RandomForestClassifier(n_estimators=100),\n",
        "    # \"Gradient Boosting\": GradientBoostingClassifier(n_estimators=100)\n",
        "}\n",
        "\n",
        "results_flat = {}\n",
        "for name, model in models.items():\n",
        "    model.fit(X_train_flat, y_train_flat)\n",
        "    y_pred = model.predict(X_test_flat)\n",
        "    accuracy = accuracy_score(y_test_flat, y_pred)\n",
        "    results_flat[name] = accuracy\n",
        "\n",
        "print(\"No Feature Extraction Results:\")\n",
        "for model, accuracy in results_flat.items():\n",
        "    print(f\"No Feature Extraction + {model} Accuracy:\", accuracy)\n"
      ],
      "metadata": {
        "colab": {
          "base_uri": "https://localhost:8080/"
        },
        "id": "FR1uW1yCa2_6",
        "outputId": "5db94879-120f-4179-f26b-49b86d248cde"
      },
      "execution_count": null,
      "outputs": [
        {
          "output_type": "stream",
          "name": "stdout",
          "text": [
            "No Feature Extraction Results:\n",
            "No Feature Extraction + Random Forest Accuracy: 0.8504301786896096\n"
          ]
        }
      ]
    },
    {
      "cell_type": "code",
      "source": [
        "# Flatten images for no feature extraction scenario\n",
        "X_flattened = [img.flatten() for img in X]\n",
        "X_flattened = np.array(X_flattened).astype(np.float32)\n",
        "scaler_flattened = StandardScaler().fit(X_flattened)\n",
        "X_flattened = scaler_flattened.transform(X_flattened).astype(np.float32)\n",
        "\n",
        "# Split data\n",
        "X_train_flat, X_test_flat, y_train_flat, y_test_flat = train_test_split(X_flattened, y, test_size=0.3, random_state=42)\n",
        "\n",
        "# Train and evaluate models for flattened images\n",
        "models = {\n",
        "    \"SVM\": SVC(gamma='auto'),\n",
        "    # \"KNN\": KNeighborsClassifier(n_neighbors=3),\n",
        "    # \"Random Forest\": RandomForestClassifier(n_estimators=100),\n",
        "    # \"Gradient Boosting\": GradientBoostingClassifier(n_estimators=100)\n",
        "}\n",
        "\n",
        "results_flat = {}\n",
        "for name, model in models.items():\n",
        "    model.fit(X_train_flat, y_train_flat)\n",
        "    y_pred = model.predict(X_test_flat)\n",
        "    accuracy = accuracy_score(y_test_flat, y_pred)\n",
        "    results_flat[name] = accuracy\n",
        "\n",
        "print(\"No Feature Extraction Results:\")\n",
        "for model, accuracy in results_flat.items():\n",
        "    print(f\"No Feature Extraction + {model} Accuracy:\", accuracy)\n"
      ],
      "metadata": {
        "colab": {
          "base_uri": "https://localhost:8080/"
        },
        "id": "InFcYLMnbGgF",
        "outputId": "6635f766-a80e-4103-c466-d0c0a037ad21"
      },
      "execution_count": null,
      "outputs": [
        {
          "output_type": "stream",
          "name": "stdout",
          "text": [
            "No Feature Extraction Results:\n",
            "No Feature Extraction + SVM Accuracy: 0.8790820829655781\n"
          ]
        }
      ]
    },
    {
      "cell_type": "code",
      "source": [
        "# Flatten images for no feature extraction scenario\n",
        "X_flattened = [img.flatten() for img in X]\n",
        "X_flattened = np.array(X_flattened).astype(np.float32)\n",
        "scaler_flattened = StandardScaler().fit(X_flattened)\n",
        "X_flattened = scaler_flattened.transform(X_flattened).astype(np.float32)\n",
        "\n",
        "# Split data\n",
        "X_train_flat, X_test_flat, y_train_flat, y_test_flat = train_test_split(X_flattened, y, test_size=0.2, random_state=42)\n",
        "\n",
        "# Train and evaluate models for flattened images\n",
        "models = {\n",
        "    \"SVM\": SVC(gamma='auto'),\n",
        "    # \"KNN\": KNeighborsClassifier(n_neighbors=3),\n",
        "    # \"Random Forest\": RandomForestClassifier(n_estimators=100),\n",
        "    # \"Gradient Boosting\": GradientBoostingClassifier(n_estimators=100)\n",
        "}\n",
        "\n",
        "results_flat = {}\n",
        "for name, model in models.items():\n",
        "    model.fit(X_train_flat, y_train_flat)\n",
        "    y_pred = model.predict(X_test_flat)\n",
        "    accuracy = accuracy_score(y_test_flat, y_pred)\n",
        "    results_flat[name] = accuracy\n",
        "\n",
        "print(\"No Feature Extraction Results:\")\n",
        "for model, accuracy in results_flat.items():\n",
        "    print(f\"No Feature Extraction + {model} Accuracy:\", accuracy)\n"
      ],
      "metadata": {
        "colab": {
          "base_uri": "https://localhost:8080/"
        },
        "id": "Cunw29AXbImK",
        "outputId": "80374ac1-c17b-4f42-af3e-6879d37a49a5"
      },
      "execution_count": null,
      "outputs": [
        {
          "output_type": "stream",
          "name": "stdout",
          "text": [
            "No Feature Extraction Results:\n",
            "No Feature Extraction + SVM Accuracy: 0.8894771674387822\n"
          ]
        }
      ]
    }
  ]
}
